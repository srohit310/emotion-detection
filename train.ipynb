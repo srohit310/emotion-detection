{
  "cells": [
    {
      "cell_type": "code",
      "execution_count": 1,
      "metadata": {
        "colab": {
          "base_uri": "https://localhost:8080/"
        },
        "id": "QXma65OaGEG1",
        "outputId": "dba2d2ba-b03a-471a-fd05-d63b77d6b422"
      },
      "outputs": [
        {
          "output_type": "stream",
          "name": "stdout",
          "text": [
            "Mounted at /content/drive\n"
          ]
        }
      ],
      "source": [
        "from google.colab import drive\n",
        "drive.mount('/content/drive')"
      ]
    },
    {
      "cell_type": "code",
      "execution_count": 2,
      "metadata": {
        "id": "CmipyTVKJ4XE"
      },
      "outputs": [],
      "source": [
        "import numpy as np\n",
        "import pandas as pd\n",
        "import scipy\n",
        "import matplotlib.pyplot as plt\n",
        "import seaborn as sns\n",
        "from tensorflow.keras.utils import to_categorical\n",
        "from tensorflow.keras.preprocessing.image import ImageDataGenerator\n",
        "from tensorflow.keras.layers import Input, Dropout, Flatten, Dense, BatchNormalization, Conv2D, MaxPooling2D\n",
        "from tensorflow.keras.models import Model\n",
        "from tensorflow.keras import optimizers\n",
        "from tensorflow.keras.callbacks import Callback, EarlyStopping, ReduceLROnPlateau"
      ]
    },
    {
      "cell_type": "code",
      "execution_count": 3,
      "metadata": {
        "id": "HSuBcqKRKJpy"
      },
      "outputs": [],
      "source": [
        "df1 = pd.read_csv('drive/MyDrive/emotion_dataset/fer2013.csv')\n",
        "df2 = pd.read_csv('drive/MyDrive/emotion_dataset/affectnet.csv')"
      ]
    },
    {
      "cell_type": "code",
      "source": [
        "df = pd.concat([df1[['pixels','emotion']],df2])"
      ],
      "metadata": {
        "id": "av7_ltdBGatn"
      },
      "execution_count": 4,
      "outputs": []
    },
    {
      "cell_type": "code",
      "execution_count": 5,
      "metadata": {
        "colab": {
          "base_uri": "https://localhost:8080/"
        },
        "id": "1fLZ0usyKxb-",
        "outputId": "df979840-dd3b-4ab8-9cca-e88b4995b993"
      },
      "outputs": [
        {
          "output_type": "stream",
          "name": "stdout",
          "text": [
            "<class 'pandas.core.frame.DataFrame'>\n",
            "Int64Index: 63301 entries, 0 to 27413\n",
            "Data columns (total 2 columns):\n",
            " #   Column   Non-Null Count  Dtype \n",
            "---  ------   --------------  ----- \n",
            " 0   pixels   63301 non-null  object\n",
            " 1   emotion  63301 non-null  int64 \n",
            "dtypes: int64(1), object(1)\n",
            "memory usage: 1.4+ MB\n",
            "None\n",
            "\n",
            "Missing data\n",
            "\n",
            " pixels     0\n",
            "emotion    0\n",
            "dtype: int64\n"
          ]
        }
      ],
      "source": [
        "print(df.info())\n",
        "print(\"\\nMissing data\\n\\n\", df.isnull().sum())"
      ]
    },
    {
      "cell_type": "code",
      "execution_count": 6,
      "metadata": {
        "colab": {
          "base_uri": "https://localhost:8080/",
          "height": 285
        },
        "id": "Ub73wGXZK9He",
        "outputId": "15159dac-cb7b-47a5-83c0-4053062e6354"
      },
      "outputs": [
        {
          "output_type": "execute_result",
          "data": {
            "text/plain": [
              "<matplotlib.image.AxesImage at 0x7fbb70e64590>"
            ]
          },
          "metadata": {},
          "execution_count": 6
        },
        {
          "output_type": "display_data",
          "data": {
            "text/plain": [
              "<Figure size 432x288 with 1 Axes>"
            ],
            "image/png": "[encoded data removed]"
          },
          "metadata": {
            "needs_background": "light"
          }
        }
      ],
      "source": [
        "imgdisp = df.iloc[40000]['pixels'].split(\" \")\n",
        "imgdisp = np.array(imgdisp, dtype = 'uint8')\n",
        "imgdisp = imgdisp.reshape(48,48)\n",
        "plt.imshow(imgdisp)"
      ]
    },
    {
      "cell_type": "code",
      "execution_count": 7,
      "metadata": {
        "colab": {
          "base_uri": "https://localhost:8080/",
          "height": 412
        },
        "id": "JrGDwL92OQ2U",
        "outputId": "36d6f7ec-ec69-4654-f4ae-990ef4286354"
      },
      "outputs": [
        {
          "output_type": "execute_result",
          "data": {
            "text/plain": [
              "[Text(0, 0, 'angry'),\n",
              " Text(0, 0, 'disgust'),\n",
              " Text(0, 0, 'fear'),\n",
              " Text(0, 0, 'happy'),\n",
              " Text(0, 0, 'sad'),\n",
              " Text(0, 0, 'surprise'),\n",
              " Text(0, 0, 'neutral')]"
            ]
          },
          "metadata": {},
          "execution_count": 7
        },
        {
          "output_type": "display_data",
          "data": {
            "text/plain": [
              "<Figure size 432x288 with 1 Axes>"
            ],
            "image/png": "[encoded data removed]"
          },
          "metadata": {
            "needs_background": "light"
          }
        }
      ],
      "source": [
        "emotions = ['angry', 'disgust', 'fear', 'happy', 'sad', 'surprise', 'neutral']\n",
        "ax = sns.countplot(x = df['emotion'],  data = df)\n",
        "ax.set_xticklabels(emotions)"
      ]
    },
    {
      "cell_type": "code",
      "execution_count": 8,
      "metadata": {
        "id": "Y2VakqlTKX4N"
      },
      "outputs": [],
      "source": [
        "x, y = [], [] \n",
        "\n",
        "for index, row in df.iterrows():\n",
        "    #The pixels column in the dataframe is given in the form of string\n",
        "    #so the string is converted into a list of integers \n",
        "    img = row['pixels'].split(\" \")\n",
        "    x.append(np.array(img))\n",
        "    y.append(row['emotion'])"
      ]
    },
    {
      "cell_type": "code",
      "source": [
        "from sklearn.model_selection import train_test_split\n",
        "x_train, x_test, y_train, y_test = train_test_split(x, y, stratify=y, test_size=0.2, random_state=0)"
      ],
      "metadata": {
        "id": "NQqwrDLzH5cC"
      },
      "execution_count": 9,
      "outputs": []
    },
    {
      "cell_type": "code",
      "execution_count": 10,
      "metadata": {
        "id": "ohVz37leXlZ2"
      },
      "outputs": [],
      "source": [
        "x_train = np.array(x_train, dtype = 'uint8')\n",
        "y_train = np.array(y_train, dtype = 'uint8')\n",
        "x_test = np.array(x_test, dtype = 'uint8')\n",
        "y_test = np.array(y_test, dtype = 'uint8')"
      ]
    },
    {
      "cell_type": "code",
      "execution_count": 11,
      "metadata": {
        "id": "fAfNRnUnZo-Y"
      },
      "outputs": [],
      "source": [
        "y_train= to_categorical(y_train, num_classes=7)\n",
        "y_test = to_categorical(y_test, num_classes=7)"
      ]
    },
    {
      "cell_type": "code",
      "execution_count": 12,
      "metadata": {
        "id": "RhWqhsqyaY-q"
      },
      "outputs": [],
      "source": [
        "x_train = x_train.reshape(x_train.shape[0], 48, 48, 1)\n",
        "x_test = x_test.reshape(x_test.shape[0], 48, 48, 1)"
      ]
    },
    {
      "cell_type": "code",
      "execution_count": 13,
      "metadata": {
        "id": "PPUdVX1CawLq"
      },
      "outputs": [],
      "source": [
        "# Applying augmentations to images in training data as\n",
        "# well as carrying out normalization\n",
        "\n",
        "datagen = ImageDataGenerator(\n",
        "    rescale=1./255,\n",
        "    featurewise_center=True,\n",
        "    featurewise_std_normalization=True,\n",
        "    rotation_range=20,\n",
        "    width_shift_range=0.2,\n",
        "    height_shift_range=0.2,\n",
        "    horizontal_flip=True)\n",
        "\n",
        "testgen = ImageDataGenerator(rescale=1./255)"
      ]
    },
    {
      "cell_type": "code",
      "execution_count": 14,
      "metadata": {
        "id": "zbYHqu0ttxJG"
      },
      "outputs": [],
      "source": [
        "datagen.fit(x_train)"
      ]
    },
    {
      "cell_type": "code",
      "execution_count": 15,
      "metadata": {
        "id": "0b78Lvllu2lV"
      },
      "outputs": [],
      "source": [
        "batch_size = 64\n",
        "train_flow = datagen.flow(x_train, y_train, batch_size=batch_size) \n",
        "test_flow = testgen.flow(x_test, y_test, batch_size=batch_size)"
      ]
    },
    {
      "cell_type": "code",
      "execution_count": 16,
      "metadata": {
        "id": "7zkYfBfAvDpA"
      },
      "outputs": [],
      "source": [
        "input_shape=(48,48,1)\n",
        "input = Input(shape=input_shape, name='input')\n",
        "\n",
        "#1st conv layer\n",
        "\n",
        "conv2d_1 = Conv2D(\n",
        "            filters=64,\n",
        "            kernel_size=(3,3),\n",
        "            activation='relu',\n",
        "            padding='same',\n",
        "            name='conv2d_1'\n",
        "        )(input)\n",
        "batchnorm_1 = BatchNormalization(name='batchnorm_1')(conv2d_1)\n",
        "conv2d_2 = Conv2D(\n",
        "            filters=64,\n",
        "            kernel_size=(3,3),\n",
        "            activation='relu',\n",
        "            padding='same',\n",
        "            name='conv2d_2'\n",
        "        )(batchnorm_1)\n",
        "batchnorm_2 = BatchNormalization(name='batchnorm_2')(conv2d_2)\n",
        "maxpool2d_1 = MaxPooling2D(pool_size=(2,2), name='maxpool2d_1')(batchnorm_2)\n",
        "dropout1 = Dropout(0.3, name='dropout_1')(maxpool2d_1)"
      ]
    },
    {
      "cell_type": "code",
      "execution_count": 17,
      "metadata": {
        "id": "8Q6LmzA1_7XO"
      },
      "outputs": [],
      "source": [
        "#2nd conv layer\n",
        "\n",
        "conv2d_3 = Conv2D(\n",
        "            filters=128,\n",
        "            kernel_size=(3,3),\n",
        "            activation='relu',\n",
        "            padding='same',\n",
        "            name='conv2d_3'\n",
        "        )(dropout1)\n",
        "batchnorm_3 = BatchNormalization(name='batchnorm_3')(conv2d_3)\n",
        "conv2d_4 = Conv2D(\n",
        "            filters=128,\n",
        "            kernel_size=(3,3),\n",
        "            activation='relu',\n",
        "            padding='same',\n",
        "            name='conv2d_4'\n",
        "        )(batchnorm_3)\n",
        "batchnorm_4 = BatchNormalization(name='batchnorm_4')(conv2d_4)\n",
        "conv2d_5 = Conv2D(\n",
        "            filters=128,\n",
        "            kernel_size=(3,3),\n",
        "            activation='relu',\n",
        "            padding='same',\n",
        "            name='conv2d_5'\n",
        "        )(batchnorm_4)\n",
        "batchnorm_5 = BatchNormalization(name='batchnorm_5')(conv2d_5)\n",
        "maxpool2d_2 = MaxPooling2D(pool_size=(2,2), name='maxpool2d_2')(batchnorm_5)\n",
        "dropout2 = Dropout(0.3, name='dropout_2')(maxpool2d_2)"
      ]
    },
    {
      "cell_type": "code",
      "execution_count": 18,
      "metadata": {
        "id": "8OoYg9sgD553"
      },
      "outputs": [],
      "source": [
        "#3rd conv layer\n",
        "\n",
        "conv2d_6 = Conv2D(\n",
        "            filters=256,\n",
        "            kernel_size=(3,3),\n",
        "            activation='relu',\n",
        "            padding='same',\n",
        "            name='conv2d_6'\n",
        "        )(dropout2)\n",
        "batchnorm_6 = BatchNormalization(name='batchnorm_6')(conv2d_6)\n",
        "conv2d_7 = Conv2D(\n",
        "            filters=256,\n",
        "            kernel_size=(3,3),\n",
        "            activation='relu',\n",
        "            padding='same',\n",
        "            name='conv2d_7'\n",
        "        )(batchnorm_6)\n",
        "batchnorm_7 = BatchNormalization(name='batchnorm_7')(conv2d_7)\n",
        "conv2d_8 = Conv2D(\n",
        "            filters=256,\n",
        "            kernel_size=(3,3),\n",
        "            activation='relu',\n",
        "            padding='same',\n",
        "            name='conv2d_8'\n",
        "        )(batchnorm_7)\n",
        "batchnorm_8 = BatchNormalization(name='batchnorm_8')(conv2d_8)\n",
        "maxpool2d_3 = MaxPooling2D(pool_size=(2,2), name='maxpool2d_3')(batchnorm_8)\n",
        "dropout3 = Dropout(0.3, name='dropout_3')(maxpool2d_3)"
      ]
    },
    {
      "cell_type": "code",
      "execution_count": 19,
      "metadata": {
        "id": "7XLq9d47DYYy"
      },
      "outputs": [],
      "source": [
        "num_classes = 7\n",
        "\n",
        "flatten_1 = Flatten(name = 'flatten')(dropout3)\n",
        "dense_1 = Dense(256, activation='relu', name = 'dense_1')(flatten_1)\n",
        "batchnorm_9 = BatchNormalization(name='batchnorm_9')(dense_1)\n",
        "dropout4 = Dropout(0.3, name='dropout_4')(batchnorm_9)\n",
        "dense_2 = Dense(128, activation='relu', name = 'dense_2')(dropout4)\n",
        "batchnorm_10 = BatchNormalization(name='batchnorm_10')(dense_2)\n",
        "dropout5 = Dropout(0.3, name='dropout_5')(batchnorm_10)\n",
        "output = Dense(num_classes, activation='softmax', name = 'dense_3')(dropout5)"
      ]
    },
    {
      "cell_type": "code",
      "execution_count": 20,
      "metadata": {
        "colab": {
          "base_uri": "https://localhost:8080/"
        },
        "id": "kflsdlCaF-5Y",
        "outputId": "bd79b421-5d6b-4d5b-c76c-7a57560ddace"
      },
      "outputs": [
        {
          "output_type": "stream",
          "name": "stdout",
          "text": [
            "Model: \"model\"\n",
            "_________________________________________________________________\n",
            " Layer (type)                Output Shape              Param #   \n",
            "=================================================================\n",
            " input (InputLayer)          [(None, 48, 48, 1)]       0         \n",
            "                                                                 \n",
            " conv2d_1 (Conv2D)           (None, 48, 48, 64)        640       \n",
            "                                                                 \n",
            " batchnorm_1 (BatchNormaliza  (None, 48, 48, 64)       256       \n",
            " tion)                                                           \n",
            "                                                                 \n",
            " conv2d_2 (Conv2D)           (None, 48, 48, 64)        36928     \n",
            "                                                                 \n",
            " batchnorm_2 (BatchNormaliza  (None, 48, 48, 64)       256       \n",
            " tion)                                                           \n",
            "                                                                 \n",
            " maxpool2d_1 (MaxPooling2D)  (None, 24, 24, 64)        0         \n",
            "                                                                 \n",
            " dropout_1 (Dropout)         (None, 24, 24, 64)        0         \n",
            "                                                                 \n",
            " conv2d_3 (Conv2D)           (None, 24, 24, 128)       73856     \n",
            "                                                                 \n",
            " batchnorm_3 (BatchNormaliza  (None, 24, 24, 128)      512       \n",
            " tion)                                                           \n",
            "                                                                 \n",
            " conv2d_4 (Conv2D)           (None, 24, 24, 128)       147584    \n",
            "                                                                 \n",
            " batchnorm_4 (BatchNormaliza  (None, 24, 24, 128)      512       \n",
            " tion)                                                           \n",
            "                                                                 \n",
            " conv2d_5 (Conv2D)           (None, 24, 24, 128)       147584    \n",
            "                                                                 \n",
            " batchnorm_5 (BatchNormaliza  (None, 24, 24, 128)      512       \n",
            " tion)                                                           \n",
            "                                                                 \n",
            " maxpool2d_2 (MaxPooling2D)  (None, 12, 12, 128)       0         \n",
            "                                                                 \n",
            " dropout_2 (Dropout)         (None, 12, 12, 128)       0         \n",
            "                                                                 \n",
            " conv2d_6 (Conv2D)           (None, 12, 12, 256)       295168    \n",
            "                                                                 \n",
            " batchnorm_6 (BatchNormaliza  (None, 12, 12, 256)      1024      \n",
            " tion)                                                           \n",
            "                                                                 \n",
            " conv2d_7 (Conv2D)           (None, 12, 12, 256)       590080    \n",
            "                                                                 \n",
            " batchnorm_7 (BatchNormaliza  (None, 12, 12, 256)      1024      \n",
            " tion)                                                           \n",
            "                                                                 \n",
            " conv2d_8 (Conv2D)           (None, 12, 12, 256)       590080    \n",
            "                                                                 \n",
            " batchnorm_8 (BatchNormaliza  (None, 12, 12, 256)      1024      \n",
            " tion)                                                           \n",
            "                                                                 \n",
            " maxpool2d_3 (MaxPooling2D)  (None, 6, 6, 256)         0         \n",
            "                                                                 \n",
            " dropout_3 (Dropout)         (None, 6, 6, 256)         0         \n",
            "                                                                 \n",
            " flatten (Flatten)           (None, 9216)              0         \n",
            "                                                                 \n",
            " dense_1 (Dense)             (None, 256)               2359552   \n",
            "                                                                 \n",
            " batchnorm_9 (BatchNormaliza  (None, 256)              1024      \n",
            " tion)                                                           \n",
            "                                                                 \n",
            " dropout_4 (Dropout)         (None, 256)               0         \n",
            "                                                                 \n",
            " dense_2 (Dense)             (None, 128)               32896     \n",
            "                                                                 \n",
            " batchnorm_10 (BatchNormaliz  (None, 128)              512       \n",
            " ation)                                                          \n",
            "                                                                 \n",
            " dropout_5 (Dropout)         (None, 128)               0         \n",
            "                                                                 \n",
            " dense_3 (Dense)             (None, 7)                 903       \n",
            "                                                                 \n",
            "=================================================================\n",
            "Total params: 4,281,927\n",
            "Trainable params: 4,278,599\n",
            "Non-trainable params: 3,328\n",
            "_________________________________________________________________\n",
            "None\n"
          ]
        }
      ],
      "source": [
        "model = Model(inputs =input, outputs = output)\n",
        "print(model.summary())"
      ]
    },
    {
      "cell_type": "code",
      "execution_count": 21,
      "metadata": {
        "id": "p6Hp9JorGjYh"
      },
      "outputs": [],
      "source": [
        "optim = optimizers.Adam(0.001)\n",
        "model.compile( \n",
        "    optimizer = optim, \n",
        "    loss=\"categorical_crossentropy\", \n",
        "    metrics=[\"accuracy\"] )"
      ]
    },
    {
      "cell_type": "code",
      "execution_count": 22,
      "metadata": {
        "id": "DCecaIroHXLa"
      },
      "outputs": [],
      "source": [
        "early_stopping = EarlyStopping(\n",
        "    monitor='val_accuracy',\n",
        "    min_delta=0.00005,\n",
        "    patience=11,\n",
        "    verbose=1,\n",
        "    restore_best_weights=True,\n",
        ")\n",
        "\n",
        "lr_scheduler = ReduceLROnPlateau(\n",
        "    monitor='val_accuracy',\n",
        "    factor=0.5,\n",
        "    patience=7,\n",
        "    min_lr=1e-7,\n",
        "    verbose=1,\n",
        ")\n",
        "\n",
        "callbacks = [\n",
        "    early_stopping,\n",
        "    lr_scheduler,\n",
        "]"
      ]
    },
    {
      "cell_type": "code",
      "execution_count": 23,
      "metadata": {
        "colab": {
          "base_uri": "https://localhost:8080/"
        },
        "id": "KO4oQ75GIMcU",
        "outputId": "0edaf8c9-1c8b-4613-d80c-ff72ffde0762"
      },
      "outputs": [
        {
          "output_type": "stream",
          "name": "stdout",
          "text": [
            "Epoch 1/100\n",
            "791/791 [==============================] - 55s 52ms/step - loss: 2.0618 - accuracy: 0.1982 - val_loss: 1.9874 - val_accuracy: 0.2146 - lr: 0.0010\n",
            "Epoch 2/100\n",
            "791/791 [==============================] - 40s 50ms/step - loss: 1.7572 - accuracy: 0.3137 - val_loss: 1.7743 - val_accuracy: 0.3125 - lr: 0.0010\n",
            "Epoch 3/100\n",
            "791/791 [==============================] - 41s 52ms/step - loss: 1.4672 - accuracy: 0.4404 - val_loss: 1.5588 - val_accuracy: 0.3930 - lr: 0.0010\n",
            "Epoch 4/100\n",
            "791/791 [==============================] - 40s 51ms/step - loss: 1.3293 - accuracy: 0.4947 - val_loss: 1.3604 - val_accuracy: 0.4814 - lr: 0.0010\n",
            "Epoch 5/100\n",
            "791/791 [==============================] - 41s 52ms/step - loss: 1.2527 - accuracy: 0.5286 - val_loss: 1.3892 - val_accuracy: 0.4654 - lr: 0.0010\n",
            "Epoch 6/100\n",
            "791/791 [==============================] - 40s 51ms/step - loss: 1.1977 - accuracy: 0.5526 - val_loss: 1.4442 - val_accuracy: 0.4570 - lr: 0.0010\n",
            "Epoch 7/100\n",
            "791/791 [==============================] - 41s 52ms/step - loss: 1.1528 - accuracy: 0.5710 - val_loss: 1.2120 - val_accuracy: 0.5388 - lr: 0.0010\n",
            "Epoch 8/100\n",
            "791/791 [==============================] - 40s 51ms/step - loss: 1.1196 - accuracy: 0.5844 - val_loss: 1.1955 - val_accuracy: 0.5451 - lr: 0.0010\n",
            "Epoch 9/100\n",
            "791/791 [==============================] - 41s 52ms/step - loss: 1.0893 - accuracy: 0.5964 - val_loss: 1.2743 - val_accuracy: 0.5083 - lr: 0.0010\n",
            "Epoch 10/100\n",
            "791/791 [==============================] - 40s 51ms/step - loss: 1.0636 - accuracy: 0.6042 - val_loss: 1.1208 - val_accuracy: 0.5790 - lr: 0.0010\n",
            "Epoch 11/100\n",
            "791/791 [==============================] - 41s 52ms/step - loss: 1.0441 - accuracy: 0.6136 - val_loss: 1.2089 - val_accuracy: 0.5462 - lr: 0.0010\n",
            "Epoch 12/100\n",
            "791/791 [==============================] - 40s 51ms/step - loss: 1.0235 - accuracy: 0.6224 - val_loss: 1.1631 - val_accuracy: 0.5717 - lr: 0.0010\n",
            "Epoch 13/100\n",
            "791/791 [==============================] - 40s 51ms/step - loss: 1.0083 - accuracy: 0.6279 - val_loss: 1.1852 - val_accuracy: 0.5494 - lr: 0.0010\n",
            "Epoch 14/100\n",
            "791/791 [==============================] - 41s 52ms/step - loss: 0.9872 - accuracy: 0.6352 - val_loss: 1.2206 - val_accuracy: 0.5447 - lr: 0.0010\n",
            "Epoch 15/100\n",
            "791/791 [==============================] - 40s 51ms/step - loss: 0.9750 - accuracy: 0.6397 - val_loss: 1.1652 - val_accuracy: 0.5614 - lr: 0.0010\n",
            "Epoch 16/100\n",
            "791/791 [==============================] - 41s 52ms/step - loss: 0.9579 - accuracy: 0.6478 - val_loss: 1.1453 - val_accuracy: 0.5639 - lr: 0.0010\n",
            "Epoch 17/100\n",
            "791/791 [==============================] - 40s 51ms/step - loss: 0.9442 - accuracy: 0.6502 - val_loss: 1.1077 - val_accuracy: 0.5819 - lr: 0.0010\n",
            "Epoch 18/100\n",
            "791/791 [==============================] - 40s 50ms/step - loss: 0.9359 - accuracy: 0.6574 - val_loss: 1.1381 - val_accuracy: 0.5782 - lr: 0.0010\n",
            "Epoch 19/100\n",
            "791/791 [==============================] - 41s 52ms/step - loss: 0.9248 - accuracy: 0.6584 - val_loss: 1.1122 - val_accuracy: 0.5870 - lr: 0.0010\n",
            "Epoch 20/100\n",
            "791/791 [==============================] - 40s 50ms/step - loss: 0.9109 - accuracy: 0.6636 - val_loss: 1.1522 - val_accuracy: 0.5751 - lr: 0.0010\n",
            "Epoch 21/100\n",
            "791/791 [==============================] - 41s 52ms/step - loss: 0.9001 - accuracy: 0.6671 - val_loss: 1.1289 - val_accuracy: 0.5885 - lr: 0.0010\n",
            "Epoch 22/100\n",
            "791/791 [==============================] - 40s 51ms/step - loss: 0.8906 - accuracy: 0.6715 - val_loss: 1.0866 - val_accuracy: 0.5902 - lr: 0.0010\n",
            "Epoch 23/100\n",
            "791/791 [==============================] - 41s 52ms/step - loss: 0.8813 - accuracy: 0.6766 - val_loss: 1.0863 - val_accuracy: 0.5930 - lr: 0.0010\n",
            "Epoch 24/100\n",
            "791/791 [==============================] - 40s 50ms/step - loss: 0.8756 - accuracy: 0.6799 - val_loss: 1.0352 - val_accuracy: 0.6115 - lr: 0.0010\n",
            "Epoch 25/100\n",
            "791/791 [==============================] - 40s 50ms/step - loss: 0.8620 - accuracy: 0.6837 - val_loss: 1.1536 - val_accuracy: 0.5839 - lr: 0.0010\n",
            "Epoch 26/100\n",
            "791/791 [==============================] - 41s 51ms/step - loss: 0.8528 - accuracy: 0.6861 - val_loss: 1.1370 - val_accuracy: 0.5878 - lr: 0.0010\n",
            "Epoch 27/100\n",
            "791/791 [==============================] - 40s 50ms/step - loss: 0.8547 - accuracy: 0.6863 - val_loss: 1.1522 - val_accuracy: 0.5823 - lr: 0.0010\n",
            "Epoch 28/100\n",
            "791/791 [==============================] - 41s 51ms/step - loss: 0.8424 - accuracy: 0.6916 - val_loss: 1.1028 - val_accuracy: 0.5881 - lr: 0.0010\n",
            "Epoch 29/100\n",
            "791/791 [==============================] - 40s 50ms/step - loss: 0.8289 - accuracy: 0.6952 - val_loss: 1.1410 - val_accuracy: 0.5914 - lr: 0.0010\n",
            "Epoch 30/100\n",
            "791/791 [==============================] - 40s 50ms/step - loss: 0.8213 - accuracy: 0.6990 - val_loss: 1.0973 - val_accuracy: 0.6071 - lr: 0.0010\n",
            "Epoch 31/100\n",
            "792/791 [==============================] - ETA: 0s - loss: 0.8146 - accuracy: 0.7005\n",
            "Epoch 31: ReduceLROnPlateau reducing learning rate to 0.0005000000237487257.\n",
            "791/791 [==============================] - 40s 50ms/step - loss: 0.8146 - accuracy: 0.7005 - val_loss: 1.0848 - val_accuracy: 0.6017 - lr: 0.0010\n",
            "Epoch 32/100\n",
            "791/791 [==============================] - 40s 50ms/step - loss: 0.7734 - accuracy: 0.7153 - val_loss: 1.0419 - val_accuracy: 0.6176 - lr: 5.0000e-04\n",
            "Epoch 33/100\n",
            "791/791 [==============================] - 42s 53ms/step - loss: 0.7604 - accuracy: 0.7198 - val_loss: 1.0655 - val_accuracy: 0.6138 - lr: 5.0000e-04\n",
            "Epoch 34/100\n",
            "791/791 [==============================] - 42s 53ms/step - loss: 0.7468 - accuracy: 0.7268 - val_loss: 1.1012 - val_accuracy: 0.6030 - lr: 5.0000e-04\n",
            "Epoch 35/100\n",
            "791/791 [==============================] - 40s 50ms/step - loss: 0.7423 - accuracy: 0.7289 - val_loss: 1.0830 - val_accuracy: 0.6059 - lr: 5.0000e-04\n",
            "Epoch 36/100\n",
            "791/791 [==============================] - 40s 50ms/step - loss: 0.7326 - accuracy: 0.7329 - val_loss: 1.0754 - val_accuracy: 0.6113 - lr: 5.0000e-04\n",
            "Epoch 37/100\n",
            "791/791 [==============================] - 40s 50ms/step - loss: 0.7287 - accuracy: 0.7328 - val_loss: 1.0850 - val_accuracy: 0.5992 - lr: 5.0000e-04\n",
            "Epoch 38/100\n",
            "791/791 [==============================] - 40s 50ms/step - loss: 0.7191 - accuracy: 0.7347 - val_loss: 1.0973 - val_accuracy: 0.6063 - lr: 5.0000e-04\n",
            "Epoch 39/100\n",
            "792/791 [==============================] - ETA: 0s - loss: 0.7121 - accuracy: 0.7387\n",
            "Epoch 39: ReduceLROnPlateau reducing learning rate to 0.0002500000118743628.\n",
            "791/791 [==============================] - 40s 50ms/step - loss: 0.7121 - accuracy: 0.7387 - val_loss: 1.0818 - val_accuracy: 0.6055 - lr: 5.0000e-04\n",
            "Epoch 40/100\n",
            "791/791 [==============================] - 42s 53ms/step - loss: 0.6869 - accuracy: 0.7492 - val_loss: 1.0939 - val_accuracy: 0.6119 - lr: 2.5000e-04\n",
            "Epoch 41/100\n",
            "791/791 [==============================] - 40s 51ms/step - loss: 0.6793 - accuracy: 0.7524 - val_loss: 1.0865 - val_accuracy: 0.6116 - lr: 2.5000e-04\n",
            "Epoch 42/100\n",
            "791/791 [==============================] - 42s 53ms/step - loss: 0.6709 - accuracy: 0.7558 - val_loss: 1.0920 - val_accuracy: 0.6084 - lr: 2.5000e-04\n",
            "Epoch 43/100\n",
            "791/791 [============================>.] - ETA: 0s - loss: 0.6693 - accuracy: 0.7571Restoring model weights from the end of the best epoch: 32.\n",
            "791/791 [==============================] - 40s 51ms/step - loss: 0.6694 - accuracy: 0.7571 - val_loss: 1.1069 - val_accuracy: 0.6037 - lr: 2.5000e-04\n",
            "Epoch 43: early stopping\n"
          ]
        }
      ],
      "source": [
        "detect_model = model.fit(\n",
        "    train_flow,\n",
        "    steps_per_epoch=len(x_train) / batch_size,\n",
        "    epochs=100,\n",
        "    callbacks=callbacks,\n",
        "    use_multiprocessing=True,\n",
        "    validation_data=test_flow\n",
        ")"
      ]
    },
    {
      "cell_type": "code",
      "source": [
        "model_json = model.to_json()\n",
        "with open(\"drive/MyDrive/model.json\", \"w\") as json_file:\n",
        "    json_file.write(model_json)\n",
        "model.save_weights(\"drive/MyDrive/model.h5\")\n",
        "print(\"Saved model to disk\")"
      ],
      "metadata": {
        "id": "fG4xILozXQPO",
        "colab": {
          "base_uri": "https://localhost:8080/"
        },
        "outputId": "694c7b6e-1de6-4b58-bb10-3cf61df1c847"
      },
      "execution_count": 24,
      "outputs": [
        {
          "output_type": "stream",
          "name": "stdout",
          "text": [
            "Saved model to disk\n"
          ]
        }
      ]
    }
  ],
  "metadata": {
    "accelerator": "GPU",
    "colab": {
      "name": "train.ipynb",
      "provenance": []
    },
    "gpuClass": "standard",
    "kernelspec": {
      "display_name": "Python 3",
      "name": "python3"
    },
    "language_info": {
      "name": "python"
    }
  },
  "nbformat": 4,
  "nbformat_minor": 0
}